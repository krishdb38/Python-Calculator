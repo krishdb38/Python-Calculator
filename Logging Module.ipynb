{
 "cells": [
  {
   "cell_type": "markdown",
   "metadata": {},
   "source": [
    "It is used by most of the third-party Python libraries, so you can integrate your log messages with the ones from those libraries to produce a homogeneous log for your application."
   ]
  },
  {
   "cell_type": "code",
   "execution_count": 1,
   "metadata": {},
   "outputs": [],
   "source": [
    "import logging"
   ]
  },
  {
   "cell_type": "markdown",
   "metadata": {},
   "source": [
    "The defined levels, in order of increasing severity, are the following:<br>\n",
    "\n",
    "DEBUG<br>\n",
    "INFO <br>\n",
    "WARNING <br>\n",
    "ERROR<br>\n",
    "CRITICAL<br>"
   ]
  },
  {
   "cell_type": "code",
   "execution_count": 3,
   "metadata": {},
   "outputs": [
    {
     "name": "stderr",
     "output_type": "stream",
     "text": [
      "WARNING:root:This is wArning\n",
      "ERROR:root:This is an error message\n",
      "CRITICAL:root:This is critical Message\n"
     ]
    }
   ],
   "source": [
    "import logging\n",
    "logging.debug(\"This is a debug message\")\n",
    "logging.info(\"This is info message\")\n",
    "logging.warning(\"This is wArning\")\n",
    "logging.error(\"This is an error message\")\n",
    "logging.critical(\"This is critical Message\")"
   ]
  },
  {
   "cell_type": "markdown",
   "metadata": {},
   "source": [
    "### Basic Configuration"
   ]
  },
  {
   "cell_type": "code",
   "execution_count": 5,
   "metadata": {},
   "outputs": [],
   "source": [
    "import logging\n",
    "logging.basicConfig(level = logging.DEBUG)\n",
    "logging.debug(\"This will get logged\")"
   ]
  },
  {
   "cell_type": "markdown",
   "metadata": {},
   "source": [
    "for logging to a file rather than the console, filename and filemode can be used, and you can decide the format of the message using format. "
   ]
  },
  {
   "cell_type": "code",
   "execution_count": 7,
   "metadata": {},
   "outputs": [
    {
     "name": "stderr",
     "output_type": "stream",
     "text": [
      "WARNING:root:This will get logged to a file\n"
     ]
    }
   ],
   "source": [
    "import logging \n",
    "logging.basicConfig(filename=\"app.log\", filemode=\"w\",format =\" %(name)s -%(levelname)s-%(message)s\")\n",
    "logging.warning(\"This will get logged to a file\")"
   ]
  },
  {
   "cell_type": "markdown",
   "metadata": {},
   "source": [
    "### debug() , info() , warning() , error()    and critical() also call basicConfig() without arguments automatically if it has not been caled  before."
   ]
  },
  {
   "cell_type": "code",
   "execution_count": 8,
   "metadata": {},
   "outputs": [],
   "source": [
    "logging.basicConfig()"
   ]
  },
  {
   "cell_type": "markdown",
   "metadata": {},
   "source": [
    "### Formatting the Output"
   ]
  },
  {
   "cell_type": "code",
   "execution_count": 9,
   "metadata": {},
   "outputs": [
    {
     "name": "stderr",
     "output_type": "stream",
     "text": [
      "WARNING:root:This is a Warning\n"
     ]
    }
   ],
   "source": [
    "import logging\n",
    "logging.basicConfig(format = \"%(process)d-%(levelname)s- %(message)s\")\n",
    "logging.warning(\"This is a Warning\")"
   ]
  }
 ],
 "metadata": {
  "kernelspec": {
   "display_name": "Python 3",
   "language": "python",
   "name": "python3"
  },
  "language_info": {
   "codemirror_mode": {
    "name": "ipython",
    "version": 3
   },
   "file_extension": ".py",
   "mimetype": "text/x-python",
   "name": "python",
   "nbconvert_exporter": "python",
   "pygments_lexer": "ipython3",
   "version": "3.7.4"
  }
 },
 "nbformat": 4,
 "nbformat_minor": 2
}
