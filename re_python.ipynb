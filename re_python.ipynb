{
 "cells": [
  {
   "cell_type": "code",
   "execution_count": 2,
   "metadata": {},
   "outputs": [],
   "source": [
    "import re"
   ]
  },
  {
   "cell_type": "code",
   "execution_count": null,
   "metadata": {},
   "outputs": [],
   "source": []
  },
  {
   "cell_type": "markdown",
   "metadata": {},
   "source": [
    ". all character except new line <br>\n",
    "\\w all characters [a-zA-z0-9] <br>\n",
    "\\s space tab <br>\n",
    "\\d decimal character 0-9<br>\n",
    "\\D Except decimal<br>\n",
    "^ in the start of word<br>\n",
    "$ in the end of the word<br>\n",
    "\\ refers no special characters  \\. is for . and \\\\ for \\<br>\n"
   ]
  },
  {
   "cell_type": "markdown",
   "metadata": {},
   "source": [
    "[] all character with in brackets <br>\n",
    "[abc] a or b or c <br>\n",
    "[abc.^] a or b or c or ^ # . ignore special characters<br>\n",
    "[a-d] all a to z <br>\n",
    "[a-zA-Z0-9]  <br>\n",
    "[^0-9] not from 0 to 9 <br>"
   ]
  },
  {
   "cell_type": "markdown",
   "metadata": {},
   "source": [
    "### re.search(pattern,text)"
   ]
  },
  {
   "cell_type": "code",
   "execution_count": 5,
   "metadata": {},
   "outputs": [
    {
     "name": "stdout",
     "output_type": "stream",
     "text": [
      "<re.Match object; span=(0, 3), match='123'>\n"
     ]
    }
   ],
   "source": [
    "pattern=r\"123\"\n",
    "string = \"123hello 1234nice\"\n",
    "#re.match(pattern,string)\n",
    "match = re.search(pattern,string)\n"
   ]
  },
  {
   "cell_type": "code",
   "execution_count": 17,
   "metadata": {},
   "outputs": [
    {
     "data": {
      "text/plain": [
       "['your base', 'your base', 'your base']"
      ]
     },
     "execution_count": 17,
     "metadata": {},
     "output_type": "execute_result"
    }
   ],
   "source": [
    "pattern=r\"(your base)\"\n",
    "sentence = \"All your base are belong to us your base nice to meet . your base\"\n",
    "\n",
    "match=re.search(pattern,sentence)\n",
    "#match=re.findall(pattern,sentence)\n",
    "match"
   ]
  },
  {
   "cell_type": "markdown",
   "metadata": {},
   "source": [
    " ### Precompiled Pattern"
   ]
  },
  {
   "cell_type": "code",
   "execution_count": 37,
   "metadata": {},
   "outputs": [
    {
     "data": {
      "text/plain": [
       "['2000', '3000']"
      ]
     },
     "execution_count": 37,
     "metadata": {},
     "output_type": "execute_result"
    }
   ],
   "source": [
    "precompiled_pattern= re.compile(r\"[1-3]\\d+\")\n",
    "precompiled_pattern.findall(\" 2000 years 3000 year\")"
   ]
  },
  {
   "cell_type": "code",
   "execution_count": 20,
   "metadata": {},
   "outputs": [
    {
     "name": "stdout",
     "output_type": "stream",
     "text": [
      "0\n",
      "4\n",
      "abcd\n"
     ]
    }
   ],
   "source": [
    "text=\"abcdef\\n abcd abcd \"\n",
    "pattern=r\"abcd\"\n",
    "search=re.search(pattern,text)\n",
    "type(search)\n",
    "\n",
    "print(search.start()) #start index\n",
    "print(search.end()) #end index\n",
    "print(search.group()) #group match text"
   ]
  },
  {
   "cell_type": "code",
   "execution_count": 16,
   "metadata": {},
   "outputs": [
    {
     "name": "stdout",
     "output_type": "stream",
     "text": [
      "<re.Match object; span=(0, 4), match='abcd'>\n",
      "<class 'list'>\n",
      "<class 'callable_iterator'>\n",
      "<re.Match object; span=(0, 4), match='abcd'>\n",
      "<re.Match object; span=(8, 12), match='abcd'>\n",
      "<re.Match object; span=(13, 17), match='abcd'>\n"
     ]
    }
   ],
   "source": [
    "text=\"abcdef\\n abcd abcd \"\n",
    "pattern=r\"abcd\" #r for row string\n",
    "print(re.search(pattern,text)) #re.search only search begining\n",
    "\n",
    "findall=re.findall(pattern,text)#return in list format only finded items\n",
    "print(type(findall)) #Return in list format\n",
    "\n",
    "find=re.finditer(pattern,text) #finditer find multiples\n",
    "print(type(find)) #class object\n",
    "find\n",
    "\n",
    "for k in find:\n",
    "    print(k)\n"
   ]
  },
  {
   "cell_type": "code",
   "execution_count": 28,
   "metadata": {},
   "outputs": [
    {
     "name": "stdout",
     "output_type": "stream",
     "text": [
      "['123', '998']\n",
      "['123h', '998d']\n",
      "['..h1', '23hk', '..ri', 'sh99']\n"
     ]
    }
   ],
   "source": [
    "re.search(r\"\\d\\d\",\"12345my name911\") #begining 2 digit\n",
    "print(re.findall(r\"\\d\\d\\d\",\"h123hkrish998\"))\n",
    "\n",
    "print(re.findall(r\"\\d\\d\\d\\w\",\"h123hkrish998d\")) #2digits and one string\n",
    "\n",
    "print(re.findall(r\"..\\w\\w\",\"..h123hk..rish998d..\")) #find 2  character except new line and one any string\n"
   ]
  },
  {
   "cell_type": "code",
   "execution_count": null,
   "metadata": {},
   "outputs": [],
   "source": []
  },
  {
   "cell_type": "code",
   "execution_count": 5,
   "metadata": {},
   "outputs": [
    {
     "data": {
      "text/plain": [
       "<re.Match object; span=(0, 5), match='piiig'>"
      ]
     },
     "execution_count": 5,
     "metadata": {},
     "output_type": "execute_result"
    }
   ],
   "source": [
    "re.search(\"pi+g\",\"piiig\") #more than one"
   ]
  },
  {
   "cell_type": "code",
   "execution_count": 3,
   "metadata": {},
   "outputs": [
    {
     "data": {
      "text/plain": [
       "<re.Match object; span=(0, 5), match='piiig'>"
      ]
     },
     "execution_count": 3,
     "metadata": {},
     "output_type": "execute_result"
    }
   ],
   "source": [
    "re.search(\"pi{3}g\",\"piiig\")  #pi and 3 i ending with g"
   ]
  },
  {
   "cell_type": "code",
   "execution_count": 30,
   "metadata": {},
   "outputs": [
    {
     "data": {
      "text/plain": [
       "<re.Match object; span=(0, 3), match='mat'>"
      ]
     },
     "execution_count": 30,
     "metadata": {},
     "output_type": "execute_result"
    }
   ],
   "source": [
    "re.search(r\"[cbm]at\",\"mat\") #match cat mat bat"
   ]
  },
  {
   "cell_type": "code",
   "execution_count": 34,
   "metadata": {},
   "outputs": [
    {
     "data": {
      "text/plain": [
       "<re.Match object; span=(11, 16), match='4haha'>"
      ]
     },
     "execution_count": 34,
     "metadata": {},
     "output_type": "execute_result"
    }
   ],
   "source": [
    "re.search(r\"[0-9]haha\",\"1haha\") #0 to 9 end with  haha\n",
    "re.search(r\"[0-4]haha\",\"hello hello4haha\")"
   ]
  },
  {
   "cell_type": "code",
   "execution_count": 49,
   "metadata": {},
   "outputs": [],
   "source": [
    "pattern=r\"[abc.^]aron\" #find abc^ any one end with aron\n",
    "re.search(pattern,\"hello^aron\") \n",
    "re.search(pattern,\"niceto maron\") #not match"
   ]
  },
  {
   "cell_type": "code",
   "execution_count": 52,
   "metadata": {},
   "outputs": [
    {
     "name": "stdout",
     "output_type": "stream",
     "text": [
      "<re.Match object; span=(13, 18), match='maron'>\n"
     ]
    }
   ],
   "source": [
    "pattern = r\"[^abc]aron\" #not abc because ^ tield is used in the begining\n",
    "text=\"nice to meet maron\"\n",
    "print(re.search(pattern,text))\n"
   ]
  },
  {
   "cell_type": "code",
   "execution_count": 53,
   "metadata": {},
   "outputs": [
    {
     "data": {
      "text/plain": [
       "<re.Match object; span=(12, 16), match=' and'>"
      ]
     },
     "execution_count": 53,
     "metadata": {},
     "output_type": "execute_result"
    }
   ],
   "source": [
    "pattern=r\"\\sand\" # one white space with and\n",
    "text = \"i love mango and banana\"\n",
    "re.search(pattern,text)"
   ]
  },
  {
   "cell_type": "code",
   "execution_count": 54,
   "metadata": {},
   "outputs": [
    {
     "data": {
      "text/plain": [
       "<re.Match object; span=(19, 24), match='. you'>"
      ]
     },
     "execution_count": 54,
     "metadata": {},
     "output_type": "execute_result"
    }
   ],
   "source": [
    "pattern=r\"\\.\\syou\" #. space and \"you\"\n",
    "text=\"hello nice to meet . you \"\n",
    "re.search(pattern,text)"
   ]
  },
  {
   "cell_type": "markdown",
   "metadata": {},
   "source": [
    "### Repeating  "
   ]
  },
  {
   "cell_type": "markdown",
   "metadata": {},
   "source": [
    " ** +** More than one but not 0 <br>\n",
    " \"  *  \" more than 0 <br>\n",
    " \"  ? \"\"is there or not <br>"
   ]
  },
  {
   "cell_type": "code",
   "execution_count": 56,
   "metadata": {},
   "outputs": [
    {
     "data": {
      "text/plain": [
       "<re.Match object; span=(0, 8), match='abcbdccb'>"
      ]
     },
     "execution_count": 56,
     "metadata": {},
     "output_type": "execute_result"
    }
   ],
   "source": [
    "pattern = r\"a[bcd]*b\"   # a compulsary b or c or d [bcd] repetition more than one\n",
    "text=\"abcbdccb\"\n",
    "re.search(pattern,text) # all bcd repetition continious ending with b"
   ]
  },
  {
   "cell_type": "code",
   "execution_count": 60,
   "metadata": {},
   "outputs": [],
   "source": [
    "pattern = r\"a[bcd]*m\"   # a compulsary b or c or d [bcd] repetition more than one\n",
    "text=\"abcbdn\"\n",
    "re.search(pattern,text)  #begining a end m repition of bcd is continous allowed"
   ]
  },
  {
   "cell_type": "code",
   "execution_count": 61,
   "metadata": {},
   "outputs": [
    {
     "data": {
      "text/plain": [
       "<re.Match object; span=(0, 8), match='bananana'>"
      ]
     },
     "execution_count": 61,
     "metadata": {},
     "output_type": "execute_result"
    }
   ],
   "source": [
    "pattern=r\"b\\w+a\" # + is for than 1 li\n",
    "text =\"bananana\"\n",
    "re.search(pattern,text)"
   ]
  },
  {
   "cell_type": "code",
   "execution_count": 62,
   "metadata": {},
   "outputs": [
    {
     "data": {
      "text/plain": [
       "<re.Match object; span=(0, 4), match='piig'>"
      ]
     },
     "execution_count": 62,
     "metadata": {},
     "output_type": "execute_result"
    }
   ],
   "source": [
    "re.search(r\"pi+g\",\"piig\") #More than 1"
   ]
  },
  {
   "cell_type": "code",
   "execution_count": 64,
   "metadata": {},
   "outputs": [],
   "source": [
    "re.search(r\"pi+g\",\"pg\")"
   ]
  },
  {
   "cell_type": "code",
   "execution_count": 65,
   "metadata": {},
   "outputs": [
    {
     "data": {
      "text/plain": [
       "<re.Match object; span=(0, 2), match='pg'>"
      ]
     },
     "execution_count": 65,
     "metadata": {},
     "output_type": "execute_result"
    }
   ],
   "source": [
    "re.search(r\"pi*g\",\"pg\") #0 is allowed the main difference "
   ]
  },
  {
   "cell_type": "code",
   "execution_count": 66,
   "metadata": {},
   "outputs": [
    {
     "data": {
      "text/plain": [
       "<re.Match object; span=(0, 5), match='https'>"
      ]
     },
     "execution_count": 66,
     "metadata": {},
     "output_type": "execute_result"
    }
   ],
   "source": [
    "pattern=r\"https?\"\n",
    "text=\"https://www.google.com\"\n",
    "re.search(pattern,text)"
   ]
  },
  {
   "cell_type": "code",
   "execution_count": 67,
   "metadata": {},
   "outputs": [
    {
     "data": {
      "text/plain": [
       "<re.Match object; span=(0, 4), match='http'>"
      ]
     },
     "execution_count": 67,
     "metadata": {},
     "output_type": "execute_result"
    }
   ],
   "source": [
    "re.search(r\"http?\", \"httpwww.google.com\")"
   ]
  },
  {
   "cell_type": "code",
   "execution_count": 73,
   "metadata": {},
   "outputs": [
    {
     "data": {
      "text/plain": [
       "<re.Match object; span=(0, 4), match='http'>"
      ]
     },
     "execution_count": 73,
     "metadata": {},
     "output_type": "execute_result"
    }
   ],
   "source": [
    "re.search(r\"http?\", \"httpswww.google.com\")"
   ]
  },
  {
   "cell_type": "markdown",
   "metadata": {},
   "source": [
    "re.search(r\""
   ]
  },
  {
   "cell_type": "code",
   "execution_count": 77,
   "metadata": {},
   "outputs": [
    {
     "data": {
      "text/plain": [
       "<re.Match object; span=(0, 6), match='babana'>"
      ]
     },
     "execution_count": 77,
     "metadata": {},
     "output_type": "execute_result"
    }
   ],
   "source": [
    "re.search(r\"^b\\w+a\",\"babana\") #start of the word with b"
   ]
  },
  {
   "cell_type": "code",
   "execution_count": null,
   "metadata": {},
   "outputs": [],
   "source": []
  },
  {
   "cell_type": "code",
   "execution_count": 83,
   "metadata": {},
   "outputs": [
    {
     "data": {
      "text/plain": [
       "<re.Match object; span=(0, 4), match='baaa'>"
      ]
     },
     "execution_count": 83,
     "metadata": {},
     "output_type": "execute_result"
    }
   ],
   "source": [
    "re.search(r\"b\\w+aa$\",\"baaa\") # start with b any  character repetition end with a"
   ]
  },
  {
   "cell_type": "markdown",
   "metadata": {},
   "source": [
    "### group()"
   ]
  },
  {
   "cell_type": "markdown",
   "metadata": {},
   "source": [
    "() group created <br>\n"
   ]
  },
  {
   "cell_type": "code",
   "execution_count": 122,
   "metadata": {},
   "outputs": [
    {
     "data": {
      "text/plain": [
       "'krish@gmail.com'"
      ]
     },
     "execution_count": 122,
     "metadata": {},
     "output_type": "execute_result"
    }
   ],
   "source": [
    "search=re.search(r\"\\w+@.+\",\"krish@gmail.com\") #any character and @ .+ any cha\n",
    "search.group()"
   ]
  },
  {
   "cell_type": "markdown",
   "metadata": {},
   "source": [
    "#### if we want to check gmail and id id different"
   ]
  },
  {
   "cell_type": "code",
   "execution_count": null,
   "metadata": {},
   "outputs": [],
   "source": []
  },
  {
   "cell_type": "code",
   "execution_count": 94,
   "metadata": {},
   "outputs": [
    {
     "data": {
      "text/plain": [
       "'krish@gmail.com'"
      ]
     },
     "execution_count": 94,
     "metadata": {},
     "output_type": "execute_result"
    }
   ],
   "source": [
    "search=re.search(r\"(\\w+)@(.+)\",\"krish@gmail.com\")  # () will group in different\n",
    "search.group(1)\n",
    "search.group(2)\n",
    "search.group(0)"
   ]
  },
  {
   "cell_type": "code",
   "execution_count": null,
   "metadata": {},
   "outputs": [],
   "source": []
  },
  {
   "cell_type": "markdown",
   "metadata": {},
   "source": [
    "### {}"
   ]
  },
  {
   "cell_type": "markdown",
   "metadata": {},
   "source": [
    "## used to count exact repetitions"
   ]
  },
  {
   "cell_type": "code",
   "execution_count": 98,
   "metadata": {},
   "outputs": [
    {
     "data": {
      "text/plain": [
       "<re.Match object; span=(0, 5), match='piiig'>"
      ]
     },
     "execution_count": 98,
     "metadata": {},
     "output_type": "execute_result"
    }
   ],
   "source": [
    "import re\n",
    "re.search(r\"pi{3}g\",\"piiig\") #only piiig will match "
   ]
  },
  {
   "cell_type": "code",
   "execution_count": 99,
   "metadata": {},
   "outputs": [
    {
     "data": {
      "text/plain": [
       "<re.Match object; span=(0, 6), match='piiiig'>"
      ]
     },
     "execution_count": 99,
     "metadata": {},
     "output_type": "execute_result"
    }
   ],
   "source": [
    "re.search(r\"pi{3,5}g\",\"piiiig\") #i 3 to 5 repetitions"
   ]
  },
  {
   "cell_type": "markdown",
   "metadata": {},
   "source": [
    "### non greedy way"
   ]
  },
  {
   "cell_type": "code",
   "execution_count": 102,
   "metadata": {},
   "outputs": [
    {
     "data": {
      "text/plain": [
       "<re.Match object; span=(0, 6), match='<html>'>"
      ]
     },
     "execution_count": 102,
     "metadata": {},
     "output_type": "execute_result"
    }
   ],
   "source": [
    "re.search(r\"<.+?>\",\"<html>hahah</html>\")  #najikai ko tag start with < plus any character upto >"
   ]
  },
  {
   "cell_type": "code",
   "execution_count": 103,
   "metadata": {},
   "outputs": [
    {
     "data": {
      "text/plain": [
       "<re.Match object; span=(0, 5), match='aaaaa'>"
      ]
     },
     "execution_count": 103,
     "metadata": {},
     "output_type": "execute_result"
    }
   ],
   "source": [
    "re.search(r\"a{3,5}\",\"aaaaaaa\") #search 5 a"
   ]
  },
  {
   "cell_type": "code",
   "execution_count": 105,
   "metadata": {},
   "outputs": [
    {
     "data": {
      "text/plain": [
       "<re.Match object; span=(0, 3), match='aaa'>"
      ]
     },
     "execution_count": 105,
     "metadata": {},
     "output_type": "execute_result"
    }
   ],
   "source": [
    "re.search(r\"a{3,5}?\",\"aaaaaaa\")  #if u use ? only first is find"
   ]
  },
  {
   "cell_type": "markdown",
   "metadata": {},
   "source": [
    "#### match()"
   ]
  },
  {
   "cell_type": "code",
   "execution_count": null,
   "metadata": {},
   "outputs": [],
   "source": []
  },
  {
   "cell_type": "markdown",
   "metadata": {},
   "source": [
    "###  findall()\n",
    "###### find all and return in list"
   ]
  },
  {
   "cell_type": "code",
   "execution_count": 107,
   "metadata": {},
   "outputs": [
    {
     "data": {
      "text/plain": [
       "['test@gmail.com', 'test2@gmail.com']"
      ]
     },
     "execution_count": 107,
     "metadata": {},
     "output_type": "execute_result"
    }
   ],
   "source": [
    "re.findall(r\"[\\w-]+@[\\w.]+\",\"test@gmail.com test2@gmail.com\")"
   ]
  },
  {
   "cell_type": "markdown",
   "metadata": {},
   "source": [
    "#### sub() #replace "
   ]
  },
  {
   "cell_type": "markdown",
   "metadata": {},
   "source": [
    "### parameter 3\n",
    "\n",
    "## WILL CHANGED FOUND MATCHED"
   ]
  },
  {
   "cell_type": "code",
   "execution_count": 115,
   "metadata": {},
   "outputs": [
    {
     "name": "stdout",
     "output_type": "stream",
     "text": [
      "자 nahere@sedaily.com\n"
     ]
    }
   ],
   "source": [
    "import requests\n",
    "from bs4 import BeautifulSoup\n",
    "\n",
    "def get_news_content(url):\n",
    "    resposnse=requests.get(url)\n",
    "    content=resposnse.text\n",
    "    \n",
    "    soup = BeautifulSoup(content,\"html5lib\")\n",
    "    div = soup.find(\"div\",attrs={\"id\":\"harmonyContainer\"})\n",
    "    \n",
    "    content=\"\"\n",
    "    for paragraph in div.find_all(\"p\"):\n",
    "        content +=paragraph.get_text()\n",
    "        \n",
    "    return content\n",
    "news1=get_news_content(\"https://news.v.daum.net/v/20191006170429728\")\n",
    "print(news1[-20:])\n",
    "    \n",
    "    "
   ]
  },
  {
   "cell_type": "code",
   "execution_count": 127,
   "metadata": {},
   "outputs": [],
   "source": [
    "pattern=r\"[\\w]+@[\\w.]+\\w+$\""
   ]
  },
  {
   "cell_type": "code",
   "execution_count": 128,
   "metadata": {},
   "outputs": [
    {
     "data": {
      "text/plain": [
       "<re.Match object; span=(1512, 1530), match='nahere@sedaily.com'>"
      ]
     },
     "execution_count": 128,
     "metadata": {},
     "output_type": "execute_result"
    }
   ],
   "source": [
    "re.search(pattern,news1)"
   ]
  },
  {
   "cell_type": "code",
   "execution_count": 130,
   "metadata": {},
   "outputs": [],
   "source": [
    "web=[\n",
    "    \"http://www.test.co.kr\",\n",
    "    \"https://www.test1.com\",\n",
    "    \"http://www.google.com\",\n",
    "    \"ftp://www.test.com\",\n",
    "    \"https://www.hello.com\"\n",
    "]"
   ]
  },
  {
   "cell_type": "raw",
   "metadata": {},
   "source": []
  },
  {
   "cell_type": "code",
   "execution_count": 136,
   "metadata": {},
   "outputs": [],
   "source": [
    "pattern=re.compile(r\"https?://[\\w.]+\\w+$\")\n"
   ]
  },
  {
   "cell_type": "code",
   "execution_count": 137,
   "metadata": {},
   "outputs": [
    {
     "data": {
      "text/plain": [
       "[True, True, True, False, True]"
      ]
     },
     "execution_count": 137,
     "metadata": {},
     "output_type": "execute_result"
    }
   ],
   "source": [
    "list(map(lambda w: pattern.search(w) != None, web))"
   ]
  },
  {
   "cell_type": "code",
   "execution_count": null,
   "metadata": {},
   "outputs": [],
   "source": []
  },
  {
   "cell_type": "code",
   "execution_count": null,
   "metadata": {},
   "outputs": [],
   "source": []
  }
 ],
 "metadata": {
  "kernelspec": {
   "display_name": "Python 3",
   "language": "python",
   "name": "python3"
  },
  "language_info": {
   "codemirror_mode": {
    "name": "ipython",
    "version": 3
   },
   "file_extension": ".py",
   "mimetype": "text/x-python",
   "name": "python",
   "nbconvert_exporter": "python",
   "pygments_lexer": "ipython3",
   "version": "3.7.3"
  }
 },
 "nbformat": 4,
 "nbformat_minor": 2
}
