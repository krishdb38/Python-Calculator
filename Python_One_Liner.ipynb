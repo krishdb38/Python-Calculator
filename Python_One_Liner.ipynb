{
 "cells": [
  {
   "cell_type": "code",
   "execution_count": 1,
   "id": "ba53bb9a",
   "metadata": {},
   "outputs": [],
   "source": [
    "# this jupyter note is free practice from book Python one liners  by Christian Mayer"
   ]
  },
  {
   "cell_type": "code",
   "execution_count": 2,
   "id": "5bb15764",
   "metadata": {},
   "outputs": [],
   "source": [
    "# from page 42"
   ]
  },
  {
   "cell_type": "code",
   "execution_count": 12,
   "id": "976f48ca",
   "metadata": {},
   "outputs": [
    {
     "name": "stdout",
     "output_type": "stream",
     "text": [
      "-1787051050806982912\n",
      "-1796636578868337216\n"
     ]
    }
   ],
   "source": [
    "# Sets\n",
    "# Collection\n",
    "\n",
    "# if you try to create a set of listst, but fail because lists are not hashable\n",
    "hero = \"Harry\"\n",
    "guide = \"Dumbledore\"\n",
    "enemy = \"Lord V\"\n",
    "print(hash(hero))\n",
    "print(hash(guide))"
   ]
  },
  {
   "cell_type": "code",
   "execution_count": 15,
   "id": "fde4e2a7",
   "metadata": {},
   "outputs": [
    {
     "name": "stdout",
     "output_type": "stream",
     "text": [
      "{'Harry', 'Lord V', 'Dumbledore'}\n"
     ]
    }
   ],
   "source": [
    "# Can we create a set of strings ?\n",
    "characters = {hero, guide, enemy}\n",
    "print(characters)"
   ]
  },
  {
   "cell_type": "code",
   "execution_count": 18,
   "id": "ffeafa7f",
   "metadata": {},
   "outputs": [],
   "source": [
    "# Can we create a set of lists ?\n",
    "team_1 = [hero, guide]\n",
    "team_2 = [enemy]\n",
    "#teams = {team_1, team_2}\n",
    "\n",
    "# this will raise TypeError"
   ]
  },
  {
   "cell_type": "code",
   "execution_count": 19,
   "id": "f14cb07a",
   "metadata": {},
   "outputs": [],
   "source": [
    "# Unique - All elements in the set must be unique. Formally, each of two values x,y in the set with x!=y have different\n",
    "# hash values\n"
   ]
  },
  {
   "cell_type": "markdown",
   "id": "77753107",
   "metadata": {},
   "source": [
    "### Dictionaries"
   ]
  },
  {
   "cell_type": "code",
   "execution_count": 21,
   "id": "fefe2396",
   "metadata": {},
   "outputs": [
    {
     "name": "stdout",
     "output_type": "stream",
     "text": [
      "52\n",
      "True\n"
     ]
    }
   ],
   "source": [
    "# The dictionary is a useful data structure fo rstoring, (key , value)\n",
    "calories = {\"apple\":52, \"banana\":89, \"choco\":546}\n",
    "\n",
    "print(calories[\"apple\"])\n",
    "print(calories[\"apple\"] < calories[\"choco\"])"
   ]
  },
  {
   "cell_type": "code",
   "execution_count": 24,
   "id": "24ea3a5b",
   "metadata": {},
   "outputs": [
    {
     "name": "stdout",
     "output_type": "stream",
     "text": [
      "True\n"
     ]
    }
   ],
   "source": [
    "print(\"apple\" in calories.keys())"
   ]
  },
  {
   "cell_type": "markdown",
   "id": "b167a746",
   "metadata": {},
   "source": [
    "## Lambda"
   ]
  },
  {
   "cell_type": "code",
   "execution_count": 26,
   "id": "fd775dde",
   "metadata": {},
   "outputs": [
    {
     "name": "stdout",
     "output_type": "stream",
     "text": [
      "<function <lambda> at 0x000001B9213CA040>\n"
     ]
    }
   ],
   "source": [
    "print(lambda x: x+3)"
   ]
  },
  {
   "cell_type": "code",
   "execution_count": 28,
   "id": "85c71b25",
   "metadata": {},
   "outputs": [
    {
     "data": {
      "text/plain": [
       "6"
      ]
     },
     "execution_count": 28,
     "metadata": {},
     "output_type": "execute_result"
    }
   ],
   "source": [
    "(lambda x: x+3)(3) #(lambda itself is function)(parameter)"
   ]
  },
  {
   "cell_type": "markdown",
   "id": "2cfaadc1",
   "metadata": {},
   "source": [
    "#### Using List Comprehensive to find top earners"
   ]
  },
  {
   "cell_type": "code",
   "execution_count": 31,
   "id": "bd566a31",
   "metadata": {},
   "outputs": [
    {
     "data": {
      "text/plain": [
       "[('Alice', 100000),\n",
       " ('Bob', 99817),\n",
       " ('Carol', 122908),\n",
       " ('Frank', 88123),\n",
       " ('Eve', 93121)]"
      ]
     },
     "execution_count": 31,
     "metadata": {},
     "output_type": "execute_result"
    }
   ],
   "source": [
    "# find all staffs who earned more than 100k\n",
    "\n",
    "employees = {'Alice' : 100000,\n",
    "    'Bob' : 99817,\n",
    "    'Carol' : 122908,\n",
    "    'Frank' : 88123,\n",
    "    'Eve' : 93121}\n",
    "\n",
    "# Tradditional way\n",
    "top_earners = []\n",
    "for key, value in employees.items():\n",
    "    if value >= 10000:\n",
    "        top_earners.append((key,value))\n",
    "top_earners"
   ]
  },
  {
   "cell_type": "code",
   "execution_count": 32,
   "id": "26bef8be",
   "metadata": {},
   "outputs": [
    {
     "data": {
      "text/plain": [
       "[2, 4, 6, 8, 10, 12, 14, 16, 18]"
      ]
     },
     "execution_count": 32,
     "metadata": {},
     "output_type": "execute_result"
    }
   ],
   "source": [
    "# \n",
    "[x*2 for x in range(1,10)]"
   ]
  },
  {
   "cell_type": "code",
   "execution_count": 34,
   "id": "434e8483",
   "metadata": {},
   "outputs": [
    {
     "data": {
      "text/plain": [
       "['kkk', 'rrr', 'iii', 'sss', 'hhh', 'nnn', 'aaa']"
      ]
     },
     "execution_count": 34,
     "metadata": {},
     "output_type": "execute_result"
    }
   ],
   "source": [
    "[x+x*2 for x in \"krishna\"]"
   ]
  },
  {
   "cell_type": "code",
   "execution_count": 36,
   "id": "d8a74606",
   "metadata": {},
   "outputs": [
    {
     "data": {
      "text/plain": [
       "[(0, 0),\n",
       " (0, 1),\n",
       " (1, 0),\n",
       " (1, 1),\n",
       " (2, 0),\n",
       " (2, 1),\n",
       " (3, 0),\n",
       " (3, 1),\n",
       " (4, 0),\n",
       " (4, 1)]"
      ]
     },
     "execution_count": 36,
     "metadata": {},
     "output_type": "execute_result"
    }
   ],
   "source": [
    "[(x,y) for x in range(5) for y in range(2)]"
   ]
  },
  {
   "cell_type": "code",
   "execution_count": 38,
   "id": "3078463c",
   "metadata": {},
   "outputs": [
    {
     "data": {
      "text/plain": [
       "[1, 9, 25, 49, 81]"
      ]
     },
     "execution_count": 38,
     "metadata": {},
     "output_type": "execute_result"
    }
   ],
   "source": [
    "# if condition\n",
    "[x**2 for x in range(10) if x%2 > 0] # "
   ]
  },
  {
   "cell_type": "code",
   "execution_count": 42,
   "id": "c446ff89",
   "metadata": {},
   "outputs": [
    {
     "data": {
      "text/plain": [
       "['kK', 'rR', 'iI', 'sS', 'hH', 'nN', 'aA']"
      ]
     },
     "execution_count": 42,
     "metadata": {},
     "output_type": "execute_result"
    }
   ],
   "source": [
    "[x.lower()+x.upper() for x in \"KRISHNA\"]"
   ]
  },
  {
   "cell_type": "code",
   "execution_count": 44,
   "id": "b84bfda1",
   "metadata": {},
   "outputs": [
    {
     "data": {
      "text/plain": [
       "[('Alice', 100000), ('Carol', 122908)]"
      ]
     },
     "execution_count": 44,
     "metadata": {},
     "output_type": "execute_result"
    }
   ],
   "source": [
    "# Solving upper problem in one line\n",
    "## Data\n",
    "employees = {'Alice' : 100000,\n",
    "    'Bob' : 99817,\n",
    "    'Carol' : 122908,\n",
    "    'Frank' : 88123,\n",
    "    'Eve' : 93121}\n",
    "    \n",
    "top_earners = [(x,y) for x,y in employees.items() if y >= 100000]\n",
    "top_earners"
   ]
  },
  {
   "cell_type": "markdown",
   "id": "487ebd1e",
   "metadata": {},
   "source": [
    "## Using List comprehension to find words with High Information value"
   ]
  },
  {
   "cell_type": "code",
   "execution_count": 46,
   "id": "5eff620e",
   "metadata": {},
   "outputs": [],
   "source": [
    "text = '''\n",
    "Call me Ishmael. Some years ago - never mind how long precisely - having\n",
    "little or no money in my purse, and nothing particular to interest me\n",
    "on shore, I thought I would sail about a little and see the watery part\n",
    "of the world. It is a way I have of driving off the spleen, and regulating\n",
    "the circulation. - Moby Dick'''"
   ]
  },
  {
   "cell_type": "code",
   "execution_count": 47,
   "id": "77c414bb",
   "metadata": {},
   "outputs": [
    {
     "data": {
      "text/plain": [
       "[[],\n",
       " ['Call',\n",
       "  'Ishmael.',\n",
       "  'Some',\n",
       "  'years',\n",
       "  'never',\n",
       "  'mind',\n",
       "  'long',\n",
       "  'precisely',\n",
       "  'having'],\n",
       " ['little', 'money', 'purse,', 'nothing', 'particular', 'interest'],\n",
       " ['shore,', 'thought', 'would', 'sail', 'about', 'little', 'watery', 'part'],\n",
       " ['world.', 'have', 'driving', 'spleen,', 'regulating'],\n",
       " ['circulation.', 'Moby', 'Dick']]"
      ]
     },
     "execution_count": 47,
     "metadata": {},
     "output_type": "execute_result"
    }
   ],
   "source": [
    "[[x for x in line.split() if len(x) >3] for line in text.split('\\n')]"
   ]
  },
  {
   "cell_type": "code",
   "execution_count": 48,
   "id": "f88eeeb2",
   "metadata": {},
   "outputs": [],
   "source": [
    "# logic\n",
    "# first create list by spliting on line (\"\\n\")\n",
    "# again lop in splitted list and line.split if word length is greater than 3\n"
   ]
  },
  {
   "cell_type": "markdown",
   "id": "2366392e",
   "metadata": {},
   "source": [
    "##  Reading a File"
   ]
  },
  {
   "cell_type": "code",
   "execution_count": 53,
   "id": "f27620b5",
   "metadata": {},
   "outputs": [
    {
     "data": {
      "text/plain": [
       "['hello',\n",
       " 'this is a python developer from South Korea.',\n",
       " 'Originally from Nepal',\n",
       " 'cyurrently doing Data Science related works and Bio informatics.']"
      ]
     },
     "execution_count": 53,
     "metadata": {},
     "output_type": "execute_result"
    }
   ],
   "source": [
    "# In this section, you will read a file and store the result as a list of strings\n",
    "# one string per line\n",
    "# You will also remove any leading and trailing whitespaces from the lines\n",
    "\n",
    "file_name = \"test_one_line_coders.txt\"\n",
    "# Traditional method\n",
    "with open (file_name, \"r\") as f:\n",
    "    lines_ = []\n",
    "    lines = f.readlines()\n",
    "    for line in lines:\n",
    "        lines_.append(line.strip())\n",
    "lines_"
   ]
  },
  {
   "cell_type": "code",
   "execution_count": 57,
   "id": "22b9eb90",
   "metadata": {},
   "outputs": [
    {
     "data": {
      "text/plain": [
       "['hello',\n",
       " 'this is a python developer from South Korea.',\n",
       " 'Originally from Nepal',\n",
       " 'cyurrently doing Data Science related works and Bio informatics.']"
      ]
     },
     "execution_count": 57,
     "metadata": {},
     "output_type": "execute_result"
    }
   ],
   "source": [
    "# in one line\n",
    "[line.strip() for line in open(file_name)]"
   ]
  },
  {
   "cell_type": "markdown",
   "id": "0e05e0aa",
   "metadata": {},
   "source": [
    "### Using Lambda and Map Functions"
   ]
  },
  {
   "cell_type": "code",
   "execution_count": 61,
   "id": "3c659ca0",
   "metadata": {},
   "outputs": [
    {
     "data": {
      "text/plain": [
       "[(True, 'lambda functions are anonymous functions.'),\n",
       " (True, 'anonymous functions dont have a name.'),\n",
       " (False, 'functions are objects in Python.')]"
      ]
     },
     "execution_count": 61,
     "metadata": {},
     "output_type": "execute_result"
    }
   ],
   "source": [
    "## Data\n",
    "txt = ['lambda functions are anonymous functions.',\n",
    "'anonymous functions dont have a name.',\n",
    "'functions are objects in Python.']\n",
    "\n",
    "# One liner\n",
    "mark = map(lambda s : (True, s) if \"anonymous\" in s else (False,s), txt)\n",
    "list(mark)"
   ]
  },
  {
   "cell_type": "code",
   "execution_count": 62,
   "id": "0b8e6ca2",
   "metadata": {},
   "outputs": [],
   "source": [
    "# map function apply in all\n",
    "# lambda function receive s from txt (list)\n",
    "# return (True, s) if condition match and ...."
   ]
  },
  {
   "cell_type": "markdown",
   "id": "ce2d62b2",
   "metadata": {},
   "source": [
    "### Exercise 2-1\n",
    "``` Use list comprehension rather than the map() function to accomplish the same output. ```"
   ]
  },
  {
   "cell_type": "code",
   "execution_count": 67,
   "id": "26a31192",
   "metadata": {},
   "outputs": [
    {
     "data": {
      "text/plain": [
       "[(True, 'lambda functions are anonymous functions.'),\n",
       " (True, 'anonymous functions dont have a name.'),\n",
       " (False, 'functions are objects in Python.')]"
      ]
     },
     "execution_count": 67,
     "metadata": {},
     "output_type": "execute_result"
    }
   ],
   "source": [
    "[(True,s) if \"anonymous\" in s else (False,s) for s in txt ]"
   ]
  },
  {
   "cell_type": "markdown",
   "id": "d8579739",
   "metadata": {},
   "source": [
    "## Using Slicing To Extract matching substring Environments"
   ]
  },
  {
   "cell_type": "code",
   "execution_count": 77,
   "id": "e879f310",
   "metadata": {},
   "outputs": [],
   "source": [
    "## Data\n",
    "letters_amazon = '''\n",
    "            We spent several years building our own database engine,\n",
    "            Amazon Aurora, a fully-managed MySQL and PostgreSQL-compatible\n",
    "            service with the same or Krish better durability and availability as\n",
    "            the commercial engines, but at one-tenth of the cost. We were\n",
    "            not '''\n",
    "\n",
    "# One Liner\n",
    "find = lambda x,q :x[x.find(q) -18 :x.find(q) + 18] if q in x else -1 "
   ]
  },
  {
   "cell_type": "code",
   "execution_count": 76,
   "id": "1ec575cc",
   "metadata": {},
   "outputs": [
    {
     "data": {
      "text/plain": [
       "'a fully-managed MySQL and PostgreSQL'"
      ]
     },
     "execution_count": 76,
     "metadata": {},
     "output_type": "execute_result"
    }
   ],
   "source": [
    "find(letters_amazon, \"SQL\")"
   ]
  },
  {
   "cell_type": "code",
   "execution_count": 79,
   "id": "f44c8976",
   "metadata": {},
   "outputs": [
    {
     "data": {
      "text/plain": [
       "' with the same or Krish better durab'"
      ]
     },
     "execution_count": 79,
     "metadata": {},
     "output_type": "execute_result"
    }
   ],
   "source": [
    "find(letters_amazon, \"Krish\")"
   ]
  },
  {
   "cell_type": "code",
   "execution_count": null,
   "id": "65dcab91",
   "metadata": {},
   "outputs": [],
   "source": [
    "# lete we can make complex logic there\n"
   ]
  },
  {
   "cell_type": "markdown",
   "id": "9290d72c",
   "metadata": {},
   "source": [
    "### Combining List Comprehension and Slicing"
   ]
  },
  {
   "cell_type": "code",
   "execution_count": 88,
   "id": "80ec3a3c",
   "metadata": {},
   "outputs": [
    {
     "data": {
      "text/plain": [
       "[[9.9, 9.8, 9.5], [9.5, 9.4, 9.2], [8.4, 7.9, 8.0], [7.1, 4.8, 4.7]]"
      ]
     },
     "execution_count": 88,
     "metadata": {},
     "output_type": "execute_result"
    }
   ],
   "source": [
    "## Data (daily stock prices ($))\n",
    "price = [[9.9, 9.8, 9.8, 9.4, 9.5, 9.7],\n",
    "        [9.5, 9.4, 9.4, 9.3, 9.2, 9.1],\n",
    "        [8.4, 7.9, 7.9, 8.1, 8.0, 8.0],\n",
    "        [7.1, 5.9, 4.8, 4.8, 4.7, 3.9]]\n",
    "\n",
    "# One Liner\n",
    "sample = [line[::2] for line in price] # skip 2 index slicing\n",
    "sample"
   ]
  },
  {
   "cell_type": "markdown",
   "id": "e93070ce",
   "metadata": {},
   "source": [
    "## Using Slice assignment to  Correct Corrupted Lists"
   ]
  },
  {
   "cell_type": "code",
   "execution_count": 94,
   "id": "d3e9dcdc",
   "metadata": {},
   "outputs": [
    {
     "name": "stdout",
     "output_type": "stream",
     "text": [
      "['Firefox', 'Chrome', 'Safari', 'Safari', 'Chrome', 'Firefox']\n",
      "['corrupted', 'corrupted', 'corrupted', 'corrupted', 'corrupted', 'corrupted']\n"
     ]
    }
   ],
   "source": [
    "## Data\n",
    "visitors = ['Firefox', 'corrupted', 'Chrome', 'corrupted',\n",
    "'Safari', 'corrupted', 'Safari', 'corrupted',\n",
    "'Chrome', 'corrupted', 'Firefox', 'corrupted']\n",
    "\n",
    "# Every word after first word is correpted \n",
    "# want to remove\n",
    "print(visitors[::2])\n",
    "print(visitors[1::2])"
   ]
  },
  {
   "cell_type": "code",
   "execution_count": 96,
   "id": "81372ba0",
   "metadata": {},
   "outputs": [
    {
     "data": {
      "text/plain": [
       "['Firefox',\n",
       " 'Firefox',\n",
       " 'Chrome',\n",
       " 'Chrome',\n",
       " 'Safari',\n",
       " 'Safari',\n",
       " 'Safari',\n",
       " 'Safari',\n",
       " 'Chrome',\n",
       " 'Chrome',\n",
       " 'Firefox',\n",
       " 'Firefox']"
      ]
     },
     "execution_count": 96,
     "metadata": {},
     "output_type": "execute_result"
    }
   ],
   "source": [
    "# One liner \n",
    "visitors[1::2] = visitors[::2]\n",
    "visitors"
   ]
  },
  {
   "cell_type": "markdown",
   "id": "40220d53",
   "metadata": {},
   "source": [
    "### Analyzing Cardiac Health Data with List Concatenations"
   ]
  },
  {
   "cell_type": "code",
   "execution_count": 97,
   "id": "d1db3389",
   "metadata": {},
   "outputs": [
    {
     "data": {
      "image/png": "[encoded data removed]",
      "text/plain": [
       "<Figure size 432x288 with 1 Axes>"
      ]
     },
     "metadata": {
      "needs_background": "light"
     },
     "output_type": "display_data"
    }
   ],
   "source": [
    "# Dependencies\n",
    "import matplotlib.pyplot as plt\n",
    "\n",
    "# data \n",
    "cardiac_cycle = [62, 60, 62, 64, 68, 77, 80, 76, 71, 66, 61, 60, 62]\n",
    "\n",
    "# One Liner\n",
    "expected_cycles = cardiac_cycle[1:-2] *10 # increase 10 times\n",
    "\n",
    "#Result\n",
    "plt.plot(expected_cycles)\n",
    "plt.show()"
   ]
  },
  {
   "cell_type": "markdown",
   "id": "a17706b5",
   "metadata": {},
   "source": [
    "### Using Generator Expressions to find Companies that pay below Minimum wage"
   ]
  },
  {
   "cell_type": "code",
   "execution_count": 100,
   "id": "0aa24359",
   "metadata": {},
   "outputs": [
    {
     "data": {
      "text/plain": [
       "['CheapCompany', 'SosoCompany']"
      ]
     },
     "execution_count": 100,
     "metadata": {},
     "output_type": "execute_result"
    }
   ],
   "source": [
    "# Find companies paying minimum wage < $9\n",
    "\n",
    "## Data\n",
    "companies = {\n",
    "        'CoolCompany' : {'Alice' : 33, 'Bob' : 28, 'Frank' : 29},\n",
    "        'CheapCompany' : {'Ann' : 4, 'Lee' : 9, 'Chrisi' : 7},\n",
    "        'SosoCompany' : {'Esther' : 38, 'Cole' : 8, 'Paris' : 18}}\n",
    "# One liner\n",
    "[x for x in companies if any (y<9 for y in companies[x].values())]"
   ]
  },
  {
   "cell_type": "markdown",
   "id": "a5a6185b",
   "metadata": {},
   "source": [
    "### Formatting DataBase with the ZIP() Function"
   ]
  },
  {
   "cell_type": "code",
   "execution_count": 109,
   "id": "7503be9c",
   "metadata": {},
   "outputs": [
    {
     "data": {
      "text/plain": [
       "[('A', '1'), ('B', '2'), ('C', '3'), ('D', '4'), ('E', '5'), ('F', '6')]"
      ]
     },
     "execution_count": 109,
     "metadata": {},
     "output_type": "execute_result"
    }
   ],
   "source": [
    "a = \"ABCDEF\"\n",
    "b = \"1234568555\"\n",
    "list(zip(a,b))"
   ]
  },
  {
   "cell_type": "code",
   "execution_count": 111,
   "id": "3da633ea",
   "metadata": {},
   "outputs": [
    {
     "data": {
      "text/plain": [
       "{'Name': ('Alice', 18000, 'Data-Scientis'),\n",
       " 'Salary': ('Bob', 99000, 'mid-level manager'),\n",
       " 'Job': ('Frank', 87000, 'CEO')}"
      ]
     },
     "execution_count": 111,
     "metadata": {},
     "output_type": "execute_result"
    }
   ],
   "source": [
    "column_name = [\"Name\", \"Salary\", \"Job\"]\n",
    "db_rows = [(\"Alice\", 18000, \"Data-Scientis\"), \n",
    "          ('Bob', 99000, 'mid-level manager'),\n",
    "          ('Frank', 87000, 'CEO')]\n",
    "dict(zip(column_name, db_rows))"
   ]
  },
  {
   "cell_type": "code",
   "execution_count": 112,
   "id": "8ec60c58",
   "metadata": {},
   "outputs": [
    {
     "data": {
      "text/plain": [
       "[{'Name': 'Alice', 'Salary': 18000, 'Job': 'Data-Scientis'},\n",
       " {'Name': 'Bob', 'Salary': 99000, 'Job': 'mid-level manager'},\n",
       " {'Name': 'Frank', 'Salary': 87000, 'Job': 'CEO'}]"
      ]
     },
     "execution_count": 112,
     "metadata": {},
     "output_type": "execute_result"
    }
   ],
   "source": [
    "[dict(zip(column_name,row)) for row in db_rows]"
   ]
  },
  {
   "cell_type": "markdown",
   "id": "294201e7",
   "metadata": {},
   "source": [
    "### Data Science"
   ]
  },
  {
   "cell_type": "code",
   "execution_count": 113,
   "id": "164c8177",
   "metadata": {},
   "outputs": [
    {
     "data": {
      "text/plain": [
       "array([1, 2, 3])"
      ]
     },
     "execution_count": 113,
     "metadata": {},
     "output_type": "execute_result"
    }
   ],
   "source": [
    "# Basic Two dimensional array arthmetic \n",
    "import numpy as np\n",
    "\n",
    "a = np.array([1,2,3])\n",
    "a"
   ]
  },
  {
   "cell_type": "code",
   "execution_count": 116,
   "id": "b72e9346",
   "metadata": {},
   "outputs": [
    {
     "name": "stdout",
     "output_type": "stream",
     "text": [
      "[[1 2]\n",
      " [3 4]]\n"
     ]
    }
   ],
   "source": [
    "# Creating a 2D array from a list of lists\n",
    "b = np.array([\n",
    "    [1,2], [3,4]\n",
    "])\n",
    "\n",
    "print(b)"
   ]
  },
  {
   "cell_type": "code",
   "execution_count": 119,
   "id": "fbe71a41",
   "metadata": {},
   "outputs": [
    {
     "name": "stdout",
     "output_type": "stream",
     "text": [
      "(2, 2, 2)\n"
     ]
    },
    {
     "data": {
      "text/plain": [
       "array([[[1, 2],\n",
       "        [3, 4]],\n",
       "\n",
       "       [[5, 6],\n",
       "        [7, 8]]])"
      ]
     },
     "execution_count": 119,
     "metadata": {},
     "output_type": "execute_result"
    }
   ],
   "source": [
    "# Creating a 3D array from a list of lists of lists\n",
    "c = np.array([[[1,2], [3,4]],\n",
    "             [[5,6], [7,8]]])\n",
    "print(c.shape)\n",
    "c"
   ]
  },
  {
   "cell_type": "code",
   "execution_count": 120,
   "id": "39dc0f22",
   "metadata": {},
   "outputs": [],
   "source": [
    "# Numpy array are more powerfull than python list (array)"
   ]
  },
  {
   "cell_type": "code",
   "execution_count": 122,
   "id": "dfcb225b",
   "metadata": {},
   "outputs": [
    {
     "data": {
      "text/plain": [
       "array([[2, 1, 1],\n",
       "       [2, 2, 3],\n",
       "       [3, 1, 2]])"
      ]
     },
     "execution_count": 122,
     "metadata": {},
     "output_type": "execute_result"
    }
   ],
   "source": [
    "a = np.array([\n",
    "    [1,0,0],\n",
    "    [1,1,1],\n",
    "    [2,0,0]\n",
    "    ])\n",
    "b = np.array(\n",
    "[\n",
    "    [1,1,1],\n",
    "    [1,1,2],\n",
    "    [1,1,2]\n",
    "])\n",
    "a + b # element wise"
   ]
  },
  {
   "cell_type": "code",
   "execution_count": 123,
   "id": "7a3f9749",
   "metadata": {},
   "outputs": [
    {
     "data": {
      "text/plain": [
       "array([[ 0, -1, -1],\n",
       "       [ 0,  0, -1],\n",
       "       [ 1, -1, -2]])"
      ]
     },
     "execution_count": 123,
     "metadata": {},
     "output_type": "execute_result"
    }
   ],
   "source": [
    "a-b"
   ]
  },
  {
   "cell_type": "code",
   "execution_count": 124,
   "id": "eadd5f97",
   "metadata": {},
   "outputs": [
    {
     "data": {
      "text/plain": [
       "array([[1, 0, 0],\n",
       "       [1, 1, 2],\n",
       "       [2, 0, 0]])"
      ]
     },
     "execution_count": 124,
     "metadata": {},
     "output_type": "execute_result"
    }
   ],
   "source": [
    "a*b"
   ]
  },
  {
   "cell_type": "code",
   "execution_count": 125,
   "id": "60cd5b3c",
   "metadata": {},
   "outputs": [
    {
     "data": {
      "text/plain": [
       "array([[1. , 0. , 0. ],\n",
       "       [1. , 1. , 0.5],\n",
       "       [2. , 0. , 0. ]])"
      ]
     },
     "execution_count": 125,
     "metadata": {},
     "output_type": "execute_result"
    }
   ],
   "source": [
    "a/b"
   ]
  },
  {
   "cell_type": "code",
   "execution_count": 128,
   "id": "85fc9ed5",
   "metadata": {},
   "outputs": [
    {
     "name": "stdout",
     "output_type": "stream",
     "text": [
      "0\n",
      "2\n",
      "0.6666666666666666\n"
     ]
    }
   ],
   "source": [
    "print(np.min(a))\n",
    "print(np.max(a))\n",
    "print(np.average(a))"
   ]
  },
  {
   "cell_type": "markdown",
   "id": "9ec1b84f",
   "metadata": {},
   "source": [
    "**The Code** <br>\n",
    "Let’s tackle this problem by using the salary data of Alice,<br>\n",
    "Bob, and Tim. It seems like Bob has enjoyed the highest salary<br>\n",
    "in the last three years. But is he actually bringing home the<br>\n",
    "most money, considering the individual tax rates of our three<br>\n",
    "friends?"
   ]
  },
  {
   "cell_type": "code",
   "execution_count": 129,
   "id": "abff1c19",
   "metadata": {},
   "outputs": [],
   "source": [
    "## Data: yearly salary in ($1000) [2017, 2018, 2019]\n",
    "alice = [99, 101, 103]\n",
    "bob = [110, 108, 105]\n",
    "tim = [90, 88, 85]"
   ]
  },
  {
   "cell_type": "code",
   "execution_count": 131,
   "id": "9e896a7f",
   "metadata": {},
   "outputs": [
    {
     "data": {
      "text/plain": [
       "array([[ 99, 101, 103],\n",
       "       [110, 108, 105],\n",
       "       [ 90,  88,  85]])"
      ]
     },
     "execution_count": 131,
     "metadata": {},
     "output_type": "execute_result"
    }
   ],
   "source": [
    "salaries = np.array([alice, bob, tim])\n",
    "salaries"
   ]
  },
  {
   "cell_type": "code",
   "execution_count": 132,
   "id": "6afba583",
   "metadata": {},
   "outputs": [],
   "source": [
    "# Taxation for three persion\n",
    "taxation = np.array([\n",
    "    [0.2,0.25, 0.22],\n",
    "    [0.4, 0.5, 0.5],\n",
    "    [0.1, 0.2, 0.1]\n",
    "])"
   ]
  },
  {
   "cell_type": "code",
   "execution_count": 133,
   "id": "2bde3fae",
   "metadata": {},
   "outputs": [
    {
     "data": {
      "text/plain": [
       "81.0"
      ]
     },
     "execution_count": 133,
     "metadata": {},
     "output_type": "execute_result"
    }
   ],
   "source": [
    "# One liner\n",
    "max_income = np.max(salaries - salaries *taxation)\n",
    "max_income"
   ]
  },
  {
   "cell_type": "code",
   "execution_count": 135,
   "id": "7324fff8",
   "metadata": {},
   "outputs": [
    {
     "data": {
      "text/plain": [
       "array([[79.2 , 75.75, 80.34],\n",
       "       [66.  , 54.  , 52.5 ],\n",
       "       [81.  , 70.4 , 76.5 ]])"
      ]
     },
     "execution_count": 135,
     "metadata": {},
     "output_type": "execute_result"
    }
   ],
   "source": [
    "total_income = salaries - salaries * taxation\n",
    "total_income"
   ]
  },
  {
   "cell_type": "markdown",
   "id": "cdc02e81",
   "metadata": {},
   "source": [
    "#  Page <span class=\"girk\"> 88 </span>"
   ]
  },
  {
   "cell_type": "markdown",
   "id": "8b090931",
   "metadata": {},
   "source": [
    "### Working with Numpy Arrays: Slicing, Broadcasting, and Array Types"
   ]
  },
  {
   "cell_type": "code",
   "execution_count": 12,
   "id": "3586a9b5",
   "metadata": {
    "ExecuteTime": {
     "end_time": "2021-11-06T02:27:47.111093Z",
     "start_time": "2021-11-06T02:27:47.097135Z"
    }
   },
   "outputs": [
    {
     "name": "stdout",
     "output_type": "stream",
     "text": [
      "[55 56 57 58 59 60 61]\n"
     ]
    }
   ],
   "source": [
    "import numpy as np\n",
    "\n",
    "a = np.array([55, 56, 57,58, 59, 60, 61])\n",
    "print(a)"
   ]
  },
  {
   "cell_type": "code",
   "execution_count": 4,
   "id": "53286416",
   "metadata": {
    "ExecuteTime": {
     "end_time": "2021-11-06T02:25:44.906114Z",
     "start_time": "2021-11-06T02:25:44.898139Z"
    }
   },
   "outputs": [
    {
     "name": "stdout",
     "output_type": "stream",
     "text": [
      "[55 56 57 58 59 60 61]\n"
     ]
    }
   ],
   "source": [
    "print(a[:])"
   ]
  },
  {
   "cell_type": "code",
   "execution_count": 6,
   "id": "455e2d56",
   "metadata": {
    "ExecuteTime": {
     "end_time": "2021-11-06T02:26:06.782024Z",
     "start_time": "2021-11-06T02:26:06.770059Z"
    }
   },
   "outputs": [
    {
     "name": "stdout",
     "output_type": "stream",
     "text": [
      "[61 60 59 58 57 56 55]\n"
     ]
    }
   ],
   "source": [
    "print(a[::-1]) # Reversing same as array"
   ]
  },
  {
   "cell_type": "code",
   "execution_count": 8,
   "id": "9501a377",
   "metadata": {
    "ExecuteTime": {
     "end_time": "2021-11-06T02:26:25.018862Z",
     "start_time": "2021-11-06T02:26:25.002182Z"
    }
   },
   "outputs": [
    {
     "name": "stdout",
     "output_type": "stream",
     "text": [
      "[55 57 59 61]\n"
     ]
    }
   ],
   "source": [
    "print(a[::2]) # index 2 from 0"
   ]
  },
  {
   "cell_type": "code",
   "execution_count": 10,
   "id": "5d874168",
   "metadata": {
    "ExecuteTime": {
     "end_time": "2021-11-06T02:27:25.844158Z",
     "start_time": "2021-11-06T02:27:25.826207Z"
    }
   },
   "outputs": [
    {
     "name": "stdout",
     "output_type": "stream",
     "text": [
      "[57 58 59 60 61]\n"
     ]
    }
   ],
   "source": [
    "print(a[2:])"
   ]
  },
  {
   "cell_type": "code",
   "execution_count": 13,
   "id": "615f11a8",
   "metadata": {
    "ExecuteTime": {
     "end_time": "2021-11-06T02:28:15.162817Z",
     "start_time": "2021-11-06T02:28:15.146069Z"
    }
   },
   "outputs": [
    {
     "name": "stdout",
     "output_type": "stream",
     "text": [
      "[57 58 59]\n"
     ]
    }
   ],
   "source": [
    "print(a[2:-2]) # from w to "
   ]
  },
  {
   "cell_type": "code",
   "execution_count": 14,
   "id": "d676d2a9",
   "metadata": {
    "ExecuteTime": {
     "end_time": "2021-11-06T02:29:52.442766Z",
     "start_time": "2021-11-06T02:29:52.426038Z"
    }
   },
   "outputs": [],
   "source": [
    "# Multi-Dimensional indexing\n",
    "a = np.array([\n",
    "    [0,1,2,3],\n",
    "    [4,5,6,7],\n",
    "    [8,9,10,11],\n",
    "    [12,13,14,15]\n",
    "])"
   ]
  },
  {
   "cell_type": "code",
   "execution_count": 16,
   "id": "843ae77f",
   "metadata": {
    "ExecuteTime": {
     "end_time": "2021-11-06T02:33:00.438511Z",
     "start_time": "2021-11-06T02:33:00.433561Z"
    }
   },
   "outputs": [
    {
     "name": "stdout",
     "output_type": "stream",
     "text": [
      "[ 1  5  9 13]\n"
     ]
    }
   ],
   "source": [
    "print(a[:,1]) # all row 1 index "
   ]
  },
  {
   "cell_type": "markdown",
   "id": "827dbbd5",
   "metadata": {},
   "source": [
    "### Broadcasting"
   ]
  },
  {
   "cell_type": "code",
   "execution_count": 21,
   "id": "5e64ca3a",
   "metadata": {
    "ExecuteTime": {
     "end_time": "2021-11-06T02:36:19.892221Z",
     "start_time": "2021-11-06T02:36:19.882218Z"
    }
   },
   "outputs": [
    {
     "name": "stdout",
     "output_type": "stream",
     "text": [
      "1\n",
      "2 (3, 3)\n",
      "3 (2, 2, 3)\n"
     ]
    }
   ],
   "source": [
    "a = np.array([1,2,34])\n",
    "print(a.ndim)\n",
    "\n",
    "b = np.array([[1,2,3], [3,2,3], [4,3,4]])\n",
    "print(b.ndim, b.shape)\n",
    "\n",
    "c = np.array([[[1,2,3], [4,5,6]], \n",
    "             [[1,2,4], [3,4,5]]])\n",
    "print(c.ndim, c.shape)"
   ]
  },
  {
   "cell_type": "markdown",
   "id": "60d9e887",
   "metadata": {},
   "source": [
    "### <span class=\"burk\">Homogenous Values</span>\n",
    "`NumPy arrays are homogeneous, meaning all values have the same type,\n",
    "Here is a non-exclusive list of possible array data types: `"
   ]
  },
  {
   "cell_type": "code",
   "execution_count": null,
   "id": "ae6f666f",
   "metadata": {},
   "outputs": [],
   "source": [
    "# page 93\n",
    "# bool, int, float, complex, np.int8, np.int16, np.int32, np.int64, np.float16\n",
    "# np.float32, np.float64, "
   ]
  },
  {
   "cell_type": "code",
   "execution_count": 25,
   "id": "d12d0351",
   "metadata": {
    "ExecuteTime": {
     "end_time": "2021-11-06T02:40:45.383694Z",
     "start_time": "2021-11-06T02:40:45.367711Z"
    }
   },
   "outputs": [
    {
     "data": {
      "text/plain": [
       "array([1, 2, 3], dtype=int16)"
      ]
     },
     "execution_count": 25,
     "metadata": {},
     "output_type": "execute_result"
    }
   ],
   "source": [
    "# \n",
    "a = np.array([1,2,3], dtype= np.int16)# specify dtype while creating\n",
    "a"
   ]
  },
  {
   "cell_type": "markdown",
   "id": "72871e95",
   "metadata": {},
   "source": [
    "###  The Code\n",
    "`You have data for a variety of professions, and you want to\n",
    "increase the salaries of just the data scientists by 10 percent\n",
    "every other year.`"
   ]
  },
  {
   "cell_type": "code",
   "execution_count": 26,
   "id": "61b046ba",
   "metadata": {
    "ExecuteTime": {
     "end_time": "2021-11-06T02:41:51.525408Z",
     "start_time": "2021-11-06T02:41:51.513449Z"
    }
   },
   "outputs": [],
   "source": [
    "## Data: yearly salary in ($1000) [2025, 2026, 2027]\n",
    "dataScientist = [130, 132, 137]\n",
    "productManager = [127, 140, 145]\n",
    "designer = [118, 118, 127]\n",
    "softwareEngineer = [129, 131, 137]"
   ]
  },
  {
   "cell_type": "code",
   "execution_count": 27,
   "id": "e6228182",
   "metadata": {
    "ExecuteTime": {
     "end_time": "2021-11-06T02:42:28.155951Z",
     "start_time": "2021-11-06T02:42:28.137970Z"
    }
   },
   "outputs": [
    {
     "data": {
      "text/plain": [
       "array([[130, 132, 137],\n",
       "       [127, 140, 145],\n",
       "       [118, 118, 127],\n",
       "       [129, 131, 137]])"
      ]
     },
     "execution_count": 27,
     "metadata": {},
     "output_type": "execute_result"
    }
   ],
   "source": [
    "employees = np.array([\n",
    "    dataScientist, productManager, designer, softwareEngineer\n",
    "])\n",
    "employees"
   ]
  },
  {
   "cell_type": "code",
   "execution_count": 29,
   "id": "bd856f7f",
   "metadata": {
    "ExecuteTime": {
     "end_time": "2021-11-06T02:45:07.718985Z",
     "start_time": "2021-11-06T02:45:07.713030Z"
    }
   },
   "outputs": [
    {
     "data": {
      "text/plain": [
       "array([[143, 132, 150],\n",
       "       [127, 140, 145],\n",
       "       [118, 118, 127],\n",
       "       [129, 131, 137]])"
      ]
     },
     "execution_count": 29,
     "metadata": {},
     "output_type": "execute_result"
    }
   ],
   "source": [
    "# page 95\n",
    "# We know index for data scientist is 0 \n",
    "# for every other year means gap in one year\n",
    "# length \n",
    "employees[0,::2] # increase here\n",
    "\n",
    "# one line\n",
    "employees[0, ::2] = employees[0, ::2] * 1.1\n",
    "employees"
   ]
  },
  {
   "cell_type": "markdown",
   "id": "2968fe8e",
   "metadata": {},
   "source": [
    "### Conditional Array Search, Filtering , and Broadcasting to detect Outliers"
   ]
  },
  {
   "cell_type": "code",
   "execution_count": 30,
   "id": "07119e78",
   "metadata": {
    "ExecuteTime": {
     "end_time": "2021-11-06T02:49:26.166908Z",
     "start_time": "2021-11-06T02:49:26.152913Z"
    }
   },
   "outputs": [
    {
     "name": "stdout",
     "output_type": "stream",
     "text": [
      "(array([0, 1, 1, 2], dtype=int64), array([0, 1, 2, 0], dtype=int64))\n"
     ]
    }
   ],
   "source": [
    "# page 97\n",
    "x = np.array([\n",
    "    [1,0,0],\n",
    "    [0,2,2],\n",
    "    [3,0,0]\n",
    "])\n",
    "print(np.nonzero(x))"
   ]
  },
  {
   "cell_type": "code",
   "execution_count": 31,
   "id": "3ed061d3",
   "metadata": {
    "ExecuteTime": {
     "end_time": "2021-11-06T02:51:07.116732Z",
     "start_time": "2021-11-06T02:51:07.104735Z"
    }
   },
   "outputs": [
    {
     "name": "stdout",
     "output_type": "stream",
     "text": [
      "[[False False False]\n",
      " [False  True  True]\n",
      " [False False False]]\n"
     ]
    }
   ],
   "source": [
    "print(x==2)"
   ]
  },
  {
   "cell_type": "code",
   "execution_count": 32,
   "id": "74bc3a7d",
   "metadata": {
    "ExecuteTime": {
     "end_time": "2021-11-06T02:51:13.571196Z",
     "start_time": "2021-11-06T02:51:13.563217Z"
    }
   },
   "outputs": [
    {
     "data": {
      "text/plain": [
       "array([2, 2])"
      ]
     },
     "execution_count": 32,
     "metadata": {},
     "output_type": "execute_result"
    }
   ],
   "source": [
    "x[x==2]"
   ]
  },
  {
   "cell_type": "markdown",
   "id": "ccf6f54f",
   "metadata": {},
   "source": [
    "### The Code\n",
    "` You are finding cities wtih above-average pollution peaks from a set of data `"
   ]
  },
  {
   "cell_type": "code",
   "execution_count": 33,
   "id": "87d9d880",
   "metadata": {
    "ExecuteTime": {
     "end_time": "2021-11-06T02:53:28.285132Z",
     "start_time": "2021-11-06T02:53:28.274135Z"
    }
   },
   "outputs": [],
   "source": [
    "X = np.array(\n",
    "    [[ 42, 40, 41, 43, 44, 43 ], # Hong Kong\n",
    "    [ 30, 31, 29, 29, 29, 30 ], # New York\n",
    "    [ 8, 13, 31, 11, 11, 9 ], # Berlin\n",
    "    [ 11, 11, 12, 13, 11, 12 ]]) # Montreal\n",
    "\n",
    "cities = np.array([\"Hong Kong\", \"New York\", \"Berlin\", \"Montreal\"])"
   ]
  },
  {
   "cell_type": "code",
   "execution_count": 35,
   "id": "d462c576",
   "metadata": {
    "ExecuteTime": {
     "end_time": "2021-11-06T02:54:37.858054Z",
     "start_time": "2021-11-06T02:54:37.840103Z"
    }
   },
   "outputs": [
    {
     "data": {
      "text/plain": [
       "{'Berlin', 'Hong Kong', 'New York'}"
      ]
     },
     "execution_count": 35,
     "metadata": {},
     "output_type": "execute_result"
    }
   ],
   "source": [
    "# One liner \n",
    "pollutted = set(cities[np.nonzero(X> np.average(X))[0]])\n",
    "pollutted"
   ]
  },
  {
   "cell_type": "code",
   "execution_count": 39,
   "id": "cb4442d5",
   "metadata": {
    "ExecuteTime": {
     "end_time": "2021-11-06T02:55:56.230729Z",
     "start_time": "2021-11-06T02:55:56.224790Z"
    }
   },
   "outputs": [
    {
     "name": "stdout",
     "output_type": "stream",
     "text": [
      "24.333333333333332\n"
     ]
    },
    {
     "data": {
      "text/plain": [
       "array([[ True,  True,  True,  True,  True,  True],\n",
       "       [ True,  True,  True,  True,  True,  True],\n",
       "       [False, False,  True, False, False, False],\n",
       "       [False, False, False, False, False, False]])"
      ]
     },
     "execution_count": 39,
     "metadata": {},
     "output_type": "execute_result"
    }
   ],
   "source": [
    "# break through\n",
    "print(np.average(X))\n",
    "(X> np.average(X))"
   ]
  },
  {
   "cell_type": "code",
   "execution_count": 40,
   "id": "e1d8321c",
   "metadata": {
    "ExecuteTime": {
     "end_time": "2021-11-06T02:56:15.450433Z",
     "start_time": "2021-11-06T02:56:15.440460Z"
    }
   },
   "outputs": [
    {
     "data": {
      "text/plain": [
       "(array([0, 0, 0, 0, 0, 0, 1, 1, 1, 1, 1, 1, 2], dtype=int64),\n",
       " array([0, 1, 2, 3, 4, 5, 0, 1, 2, 3, 4, 5, 2], dtype=int64))"
      ]
     },
     "execution_count": 40,
     "metadata": {},
     "output_type": "execute_result"
    }
   ],
   "source": [
    "np.nonzero(X> np.average(X)) # False is 0 and True is 1"
   ]
  },
  {
   "cell_type": "code",
   "execution_count": 46,
   "id": "b6899fca",
   "metadata": {
    "ExecuteTime": {
     "end_time": "2021-11-06T02:58:15.793082Z",
     "start_time": "2021-11-06T02:58:15.776383Z"
    }
   },
   "outputs": [
    {
     "data": {
      "text/plain": [
       "array(['Hong Kong', 'Hong Kong', 'Hong Kong', 'Hong Kong', 'Hong Kong',\n",
       "       'Hong Kong', 'New York', 'New York', 'New York', 'New York',\n",
       "       'New York', 'New York', 'Berlin'], dtype='<U9')"
      ]
     },
     "execution_count": 46,
     "metadata": {},
     "output_type": "execute_result"
    }
   ],
   "source": [
    "# extract citis 2 index\n",
    "cities[np.nonzero(X> np.average(X))[0]]\n",
    "# set will extract only Unique"
   ]
  },
  {
   "cell_type": "markdown",
   "id": "4ab04515",
   "metadata": {},
   "source": [
    "### Boolean Indexing to Filter Two Dimensional arrays"
   ]
  },
  {
   "cell_type": "code",
   "execution_count": 47,
   "id": "5b5965dc",
   "metadata": {
    "ExecuteTime": {
     "end_time": "2021-11-06T03:02:38.733298Z",
     "start_time": "2021-11-06T03:02:38.729309Z"
    }
   },
   "outputs": [],
   "source": [
    "# page 101"
   ]
  },
  {
   "cell_type": "code",
   "execution_count": null,
   "id": "db5fcd5f",
   "metadata": {},
   "outputs": [],
   "source": []
  }
 ],
 "metadata": {
  "hide_input": false,
  "kernelspec": {
   "display_name": "Python 3",
   "language": "python",
   "name": "python3"
  },
  "language_info": {
   "codemirror_mode": {
    "name": "ipython",
    "version": 3
   },
   "file_extension": ".py",
   "mimetype": "text/x-python",
   "name": "python",
   "nbconvert_exporter": "python",
   "pygments_lexer": "ipython3",
   "version": "3.8.8"
  },
  "latex_envs": {
   "LaTeX_envs_menu_present": true,
   "autoclose": false,
   "autocomplete": true,
   "bibliofile": "biblio.bib",
   "cite_by": "apalike",
   "current_citInitial": 1,
   "eqLabelWithNumbers": true,
   "eqNumInitial": 1,
   "hotkeys": {
    "equation": "Ctrl-E",
    "itemize": "Ctrl-I"
   },
   "labels_anchors": false,
   "latex_user_defs": false,
   "report_style_numbering": false,
   "user_envs_cfg": false
  },
  "nbTranslate": {
   "displayLangs": [
    "*"
   ],
   "hotkey": "alt-t",
   "langInMainMenu": true,
   "sourceLang": "en",
   "targetLang": "fr",
   "useGoogleTranslate": true
  },
  "toc": {
   "base_numbering": 1,
   "nav_menu": {},
   "number_sections": true,
   "sideBar": true,
   "skip_h1_title": false,
   "title_cell": "Table of Contents",
   "title_sidebar": "Contents",
   "toc_cell": false,
   "toc_position": {},
   "toc_section_display": true,
   "toc_window_display": false
  },
  "varInspector": {
   "cols": {
    "lenName": 16,
    "lenType": 16,
    "lenVar": 40
   },
   "kernels_config": {
    "python": {
     "delete_cmd_postfix": "",
     "delete_cmd_prefix": "del ",
     "library": "var_list.py",
     "varRefreshCmd": "print(var_dic_list())"
    },
    "r": {
     "delete_cmd_postfix": ") ",
     "delete_cmd_prefix": "rm(",
     "library": "var_list.r",
     "varRefreshCmd": "cat(var_dic_list()) "
    }
   },
   "types_to_exclude": [
    "module",
    "function",
    "builtin_function_or_method",
    "instance",
    "_Feature"
   ],
   "window_display": false
  }
 },
 "nbformat": 4,
 "nbformat_minor": 5
}
