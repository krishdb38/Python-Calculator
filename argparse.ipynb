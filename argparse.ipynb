{
 "cells": [
  {
   "cell_type": "markdown",
   "metadata": {},
   "source": [
    "### Creating a parser"
   ]
  },
  {
   "cell_type": "code",
   "execution_count": 2,
   "metadata": {},
   "outputs": [],
   "source": [
    "import argparse\n",
    "parser = argparse.ArgumentParser(description=\"Some thing of Argument\")"
   ]
  },
  {
   "cell_type": "markdown",
   "metadata": {},
   "source": [
    "#### Adding Arguments"
   ]
  },
  {
   "cell_type": "code",
   "execution_count": null,
   "metadata": {},
   "outputs": [],
   "source": [
    "parser.add_argument(\"integers\",*arg )"
   ]
  },
  {
   "cell_type": "markdown",
   "metadata": {},
   "source": [
    "### Parsing arguments"
   ]
  },
  {
   "cell_type": "code",
   "execution_count": 4,
   "metadata": {},
   "outputs": [],
   "source": [
    "#parser.parse_args([\"--sum\",\"7\",\"-1\",\"55\"]) #Different Values according to need"
   ]
  },
  {
   "cell_type": "markdown",
   "metadata": {},
   "source": [
    "## ArgumentParser objects\n",
    "###### class argparse.ArgumentParser(prog = None,  usage = None , description  = None , epilog = None , parents = [] , formatter_class = argparse. HelpFormatter , prefix_chars = \"-\" , fromfile_prefix_chars = None , argument_default = None ,  conflict_handler = \"error\" , add_help = True, allow_abbrev = True)\n"
   ]
  },
  {
   "cell_type": "markdown",
   "metadata": {},
   "source": [
    "**prog** - The name of the program (default: sys.argv[0])<br>\n",
    "**usage** - The string describing the program usage (default: generated from arguments added to parser)<br>\n",
    "**description** - Text to display before the argument help (default: none)<br>\n",
    "**epilog** - Text to display after the argument help (default: none)<br>\n",
    "**parents** - A list of ArgumentParser objects whose arguments should also be included<br>\n",
    "**f**ormatter_class - A class for customizing the help output<br>\n",
    "**prefix_chars** - The set of characters that prefix optional arguments (default: ‘-‘)<br>\n",
    "**fromfile_prefix_chars** - The set of characters that prefix files from which additional arguments should be read (default: None)\n",
    "<br>**argument_default** - The global default value for arguments (default: None)<br>\n",
    "**conflict_handler** - The strategy for resolving conflicting optionals (usually unnecessary)<br>\n",
    "**add_help** - Add a -h/--help option to the parser (default: True)<br>\n",
    "**allow_abbrev** - Allows long options to be abbreviated if the abbreviation is unambiguous. (default: True)<br>"
   ]
  },
  {
   "cell_type": "markdown",
   "metadata": {},
   "source": [
    "### Prog"
   ]
  },
  {
   "cell_type": "code",
   "execution_count": 13,
   "metadata": {},
   "outputs": [
    {
     "name": "stderr",
     "output_type": "stream",
     "text": [
      "usage: ipykernel_launcher.py [-h] [--foo FOO]\n",
      "ipykernel_launcher.py: error: unrecognized arguments: -f C:\\Users\\user\\AppData\\Roaming\\jupyter\\runtime\\kernel-3e2595b6-5a00-4ab6-a06f-19e3c03f6d10.json\n"
     ]
    },
    {
     "ename": "SystemExit",
     "evalue": "2",
     "output_type": "error",
     "traceback": [
      "An exception has occurred, use %tb to see the full traceback.\n",
      "\u001b[1;31mSystemExit\u001b[0m\u001b[1;31m:\u001b[0m 2\n"
     ]
    },
    {
     "name": "stderr",
     "output_type": "stream",
     "text": [
      "C:\\ProgramData\\Anaconda3\\lib\\site-packages\\IPython\\core\\interactiveshell.py:3334: UserWarning: To exit: use 'exit', 'quit', or Ctrl-D.\n",
      "  warn(\"To exit: use 'exit', 'quit', or Ctrl-D.\", stacklevel=1)\n"
     ]
    }
   ],
   "source": [
    "import argparse\n",
    "parser = argparse.ArgumentParser()  #Creating the Object\n",
    "parser.add_argument(\"--foo\", help = \"foo help\")\n",
    "args = parser.parse_args()"
   ]
  },
  {
   "cell_type": "code",
   "execution_count": null,
   "metadata": {},
   "outputs": [],
   "source": []
  },
  {
   "cell_type": "code",
   "execution_count": null,
   "metadata": {},
   "outputs": [],
   "source": []
  },
  {
   "cell_type": "code",
   "execution_count": null,
   "metadata": {},
   "outputs": [],
   "source": [
    "#import sys\n",
    "#sys.argv[2]"
   ]
  }
 ],
 "metadata": {
  "kernelspec": {
   "display_name": "Python 3",
   "language": "python",
   "name": "python3"
  },
  "language_info": {
   "codemirror_mode": {
    "name": "ipython",
    "version": 3
   },
   "file_extension": ".py",
   "mimetype": "text/x-python",
   "name": "python",
   "nbconvert_exporter": "python",
   "pygments_lexer": "ipython3",
   "version": "3.7.4"
  }
 },
 "nbformat": 4,
 "nbformat_minor": 2
}
